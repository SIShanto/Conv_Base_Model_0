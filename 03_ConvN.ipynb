{
 "cells": [
  {
   "cell_type": "code",
   "execution_count": 1,
   "id": "9fecbbe3",
   "metadata": {},
   "outputs": [],
   "source": [
    "import torch\n",
    "from torch import nn\n",
    "\n",
    "import torchvision\n",
    "from torchvision import datasets, transforms\n",
    "from torchvision.transforms import ToTensor\n",
    "import matplotlib.pyplot as plt"
   ]
  },
  {
   "cell_type": "markdown",
   "id": "b8868f81",
   "metadata": {},
   "source": [
    "### Getting the dataset\n",
    "\n",
    "We will use MNIST database\n"
   ]
  },
  {
   "cell_type": "code",
   "execution_count": 2,
   "id": "faa75dd2",
   "metadata": {},
   "outputs": [],
   "source": [
    "# Setup Training dat\n",
    "train_data= datasets.FashionMNIST(\n",
    "    root= 'data',\n",
    "    train=True,\n",
    "    download=True,\n",
    "    transform=ToTensor(),\n",
    "    target_transform=None # Transforming label? No.\n",
    ")\n",
    "\n",
    "# Setup testing Data\n",
    "\n",
    "test_data=datasets.FashionMNIST(\n",
    "    root='data',\n",
    "    train= False, # if false, then it willbe testing dataset\n",
    "    download=True,\n",
    "    transform=ToTensor(),\n",
    "    target_transform=None\n",
    ")"
   ]
  },
  {
   "cell_type": "code",
   "execution_count": 3,
   "id": "53784fa7",
   "metadata": {},
   "outputs": [
    {
     "data": {
      "text/plain": [
       "(tensor([[[0.0000, 0.0000, 0.0000, 0.0000, 0.0000, 0.0000, 0.0000, 0.0000,\n",
       "           0.0000, 0.0000, 0.0000, 0.0000, 0.0000, 0.0000, 0.0000, 0.0000,\n",
       "           0.0000, 0.0000, 0.0000, 0.0000, 0.0000, 0.0000, 0.0000, 0.0000,\n",
       "           0.0000, 0.0000, 0.0000, 0.0000],\n",
       "          [0.0000, 0.0000, 0.0000, 0.0000, 0.0000, 0.0000, 0.0000, 0.0000,\n",
       "           0.0000, 0.0000, 0.0000, 0.0000, 0.0000, 0.0000, 0.0000, 0.0000,\n",
       "           0.0000, 0.0000, 0.0000, 0.0000, 0.0000, 0.0000, 0.0000, 0.0000,\n",
       "           0.0000, 0.0000, 0.0000, 0.0000],\n",
       "          [0.0000, 0.0000, 0.0000, 0.0000, 0.0000, 0.0000, 0.0000, 0.0000,\n",
       "           0.0000, 0.0000, 0.0000, 0.0000, 0.0000, 0.0000, 0.0000, 0.0000,\n",
       "           0.0000, 0.0000, 0.0000, 0.0000, 0.0000, 0.0000, 0.0000, 0.0000,\n",
       "           0.0000, 0.0000, 0.0000, 0.0000],\n",
       "          [0.0000, 0.0000, 0.0000, 0.0000, 0.0000, 0.0000, 0.0000, 0.0000,\n",
       "           0.0000, 0.0000, 0.0000, 0.0000, 0.0039, 0.0000, 0.0000, 0.0510,\n",
       "           0.2863, 0.0000, 0.0000, 0.0039, 0.0157, 0.0000, 0.0000, 0.0000,\n",
       "           0.0000, 0.0039, 0.0039, 0.0000],\n",
       "          [0.0000, 0.0000, 0.0000, 0.0000, 0.0000, 0.0000, 0.0000, 0.0000,\n",
       "           0.0000, 0.0000, 0.0000, 0.0000, 0.0118, 0.0000, 0.1412, 0.5333,\n",
       "           0.4980, 0.2431, 0.2118, 0.0000, 0.0000, 0.0000, 0.0039, 0.0118,\n",
       "           0.0157, 0.0000, 0.0000, 0.0118],\n",
       "          [0.0000, 0.0000, 0.0000, 0.0000, 0.0000, 0.0000, 0.0000, 0.0000,\n",
       "           0.0000, 0.0000, 0.0000, 0.0000, 0.0235, 0.0000, 0.4000, 0.8000,\n",
       "           0.6902, 0.5255, 0.5647, 0.4824, 0.0902, 0.0000, 0.0000, 0.0000,\n",
       "           0.0000, 0.0471, 0.0392, 0.0000],\n",
       "          [0.0000, 0.0000, 0.0000, 0.0000, 0.0000, 0.0000, 0.0000, 0.0000,\n",
       "           0.0000, 0.0000, 0.0000, 0.0000, 0.0000, 0.0000, 0.6078, 0.9255,\n",
       "           0.8118, 0.6980, 0.4196, 0.6118, 0.6314, 0.4275, 0.2510, 0.0902,\n",
       "           0.3020, 0.5098, 0.2824, 0.0588],\n",
       "          [0.0000, 0.0000, 0.0000, 0.0000, 0.0000, 0.0000, 0.0000, 0.0000,\n",
       "           0.0000, 0.0000, 0.0000, 0.0039, 0.0000, 0.2706, 0.8118, 0.8745,\n",
       "           0.8549, 0.8471, 0.8471, 0.6392, 0.4980, 0.4745, 0.4784, 0.5725,\n",
       "           0.5529, 0.3451, 0.6745, 0.2588],\n",
       "          [0.0000, 0.0000, 0.0000, 0.0000, 0.0000, 0.0000, 0.0000, 0.0000,\n",
       "           0.0000, 0.0039, 0.0039, 0.0039, 0.0000, 0.7843, 0.9098, 0.9098,\n",
       "           0.9137, 0.8980, 0.8745, 0.8745, 0.8431, 0.8353, 0.6431, 0.4980,\n",
       "           0.4824, 0.7686, 0.8980, 0.0000],\n",
       "          [0.0000, 0.0000, 0.0000, 0.0000, 0.0000, 0.0000, 0.0000, 0.0000,\n",
       "           0.0000, 0.0000, 0.0000, 0.0000, 0.0000, 0.7176, 0.8824, 0.8471,\n",
       "           0.8745, 0.8941, 0.9216, 0.8902, 0.8784, 0.8706, 0.8784, 0.8667,\n",
       "           0.8745, 0.9608, 0.6784, 0.0000],\n",
       "          [0.0000, 0.0000, 0.0000, 0.0000, 0.0000, 0.0000, 0.0000, 0.0000,\n",
       "           0.0000, 0.0000, 0.0000, 0.0000, 0.0000, 0.7569, 0.8941, 0.8549,\n",
       "           0.8353, 0.7765, 0.7059, 0.8314, 0.8235, 0.8275, 0.8353, 0.8745,\n",
       "           0.8627, 0.9529, 0.7922, 0.0000],\n",
       "          [0.0000, 0.0000, 0.0000, 0.0000, 0.0000, 0.0000, 0.0000, 0.0000,\n",
       "           0.0000, 0.0039, 0.0118, 0.0000, 0.0471, 0.8588, 0.8627, 0.8314,\n",
       "           0.8549, 0.7529, 0.6627, 0.8902, 0.8157, 0.8549, 0.8784, 0.8314,\n",
       "           0.8863, 0.7725, 0.8196, 0.2039],\n",
       "          [0.0000, 0.0000, 0.0000, 0.0000, 0.0000, 0.0000, 0.0000, 0.0000,\n",
       "           0.0000, 0.0000, 0.0235, 0.0000, 0.3882, 0.9569, 0.8706, 0.8627,\n",
       "           0.8549, 0.7961, 0.7765, 0.8667, 0.8431, 0.8353, 0.8706, 0.8627,\n",
       "           0.9608, 0.4667, 0.6549, 0.2196],\n",
       "          [0.0000, 0.0000, 0.0000, 0.0000, 0.0000, 0.0000, 0.0000, 0.0000,\n",
       "           0.0000, 0.0157, 0.0000, 0.0000, 0.2157, 0.9255, 0.8941, 0.9020,\n",
       "           0.8941, 0.9412, 0.9098, 0.8353, 0.8549, 0.8745, 0.9176, 0.8510,\n",
       "           0.8510, 0.8196, 0.3608, 0.0000],\n",
       "          [0.0000, 0.0000, 0.0039, 0.0157, 0.0235, 0.0275, 0.0078, 0.0000,\n",
       "           0.0000, 0.0000, 0.0000, 0.0000, 0.9294, 0.8863, 0.8510, 0.8745,\n",
       "           0.8706, 0.8588, 0.8706, 0.8667, 0.8471, 0.8745, 0.8980, 0.8431,\n",
       "           0.8549, 1.0000, 0.3020, 0.0000],\n",
       "          [0.0000, 0.0118, 0.0000, 0.0000, 0.0000, 0.0000, 0.0000, 0.0000,\n",
       "           0.0000, 0.2431, 0.5686, 0.8000, 0.8941, 0.8118, 0.8353, 0.8667,\n",
       "           0.8549, 0.8157, 0.8275, 0.8549, 0.8784, 0.8745, 0.8588, 0.8431,\n",
       "           0.8784, 0.9569, 0.6235, 0.0000],\n",
       "          [0.0000, 0.0000, 0.0000, 0.0000, 0.0706, 0.1725, 0.3216, 0.4196,\n",
       "           0.7412, 0.8941, 0.8627, 0.8706, 0.8510, 0.8863, 0.7843, 0.8039,\n",
       "           0.8275, 0.9020, 0.8784, 0.9176, 0.6902, 0.7373, 0.9804, 0.9725,\n",
       "           0.9137, 0.9333, 0.8431, 0.0000],\n",
       "          [0.0000, 0.2235, 0.7333, 0.8157, 0.8784, 0.8667, 0.8784, 0.8157,\n",
       "           0.8000, 0.8392, 0.8157, 0.8196, 0.7843, 0.6235, 0.9608, 0.7569,\n",
       "           0.8078, 0.8745, 1.0000, 1.0000, 0.8667, 0.9176, 0.8667, 0.8275,\n",
       "           0.8627, 0.9098, 0.9647, 0.0000],\n",
       "          [0.0118, 0.7922, 0.8941, 0.8784, 0.8667, 0.8275, 0.8275, 0.8392,\n",
       "           0.8039, 0.8039, 0.8039, 0.8627, 0.9412, 0.3137, 0.5882, 1.0000,\n",
       "           0.8980, 0.8667, 0.7373, 0.6039, 0.7490, 0.8235, 0.8000, 0.8196,\n",
       "           0.8706, 0.8941, 0.8824, 0.0000],\n",
       "          [0.3843, 0.9137, 0.7765, 0.8235, 0.8706, 0.8980, 0.8980, 0.9176,\n",
       "           0.9765, 0.8627, 0.7608, 0.8431, 0.8510, 0.9451, 0.2549, 0.2863,\n",
       "           0.4157, 0.4588, 0.6588, 0.8588, 0.8667, 0.8431, 0.8510, 0.8745,\n",
       "           0.8745, 0.8784, 0.8980, 0.1137],\n",
       "          [0.2941, 0.8000, 0.8314, 0.8000, 0.7569, 0.8039, 0.8275, 0.8824,\n",
       "           0.8471, 0.7255, 0.7725, 0.8078, 0.7765, 0.8353, 0.9412, 0.7647,\n",
       "           0.8902, 0.9608, 0.9373, 0.8745, 0.8549, 0.8314, 0.8196, 0.8706,\n",
       "           0.8627, 0.8667, 0.9020, 0.2627],\n",
       "          [0.1882, 0.7961, 0.7176, 0.7608, 0.8353, 0.7725, 0.7255, 0.7451,\n",
       "           0.7608, 0.7529, 0.7922, 0.8392, 0.8588, 0.8667, 0.8627, 0.9255,\n",
       "           0.8824, 0.8471, 0.7804, 0.8078, 0.7294, 0.7098, 0.6941, 0.6745,\n",
       "           0.7098, 0.8039, 0.8078, 0.4510],\n",
       "          [0.0000, 0.4784, 0.8588, 0.7569, 0.7020, 0.6706, 0.7176, 0.7686,\n",
       "           0.8000, 0.8235, 0.8353, 0.8118, 0.8275, 0.8235, 0.7843, 0.7686,\n",
       "           0.7608, 0.7490, 0.7647, 0.7490, 0.7765, 0.7529, 0.6902, 0.6118,\n",
       "           0.6549, 0.6941, 0.8235, 0.3608],\n",
       "          [0.0000, 0.0000, 0.2902, 0.7412, 0.8314, 0.7490, 0.6863, 0.6745,\n",
       "           0.6863, 0.7098, 0.7255, 0.7373, 0.7412, 0.7373, 0.7569, 0.7765,\n",
       "           0.8000, 0.8196, 0.8235, 0.8235, 0.8275, 0.7373, 0.7373, 0.7608,\n",
       "           0.7529, 0.8471, 0.6667, 0.0000],\n",
       "          [0.0078, 0.0000, 0.0000, 0.0000, 0.2588, 0.7843, 0.8706, 0.9294,\n",
       "           0.9373, 0.9490, 0.9647, 0.9529, 0.9569, 0.8667, 0.8627, 0.7569,\n",
       "           0.7490, 0.7020, 0.7137, 0.7137, 0.7098, 0.6902, 0.6510, 0.6588,\n",
       "           0.3882, 0.2275, 0.0000, 0.0000],\n",
       "          [0.0000, 0.0000, 0.0000, 0.0000, 0.0000, 0.0000, 0.0000, 0.1569,\n",
       "           0.2392, 0.1725, 0.2824, 0.1608, 0.1373, 0.0000, 0.0000, 0.0000,\n",
       "           0.0000, 0.0000, 0.0000, 0.0000, 0.0000, 0.0000, 0.0000, 0.0000,\n",
       "           0.0000, 0.0000, 0.0000, 0.0000],\n",
       "          [0.0000, 0.0000, 0.0000, 0.0000, 0.0000, 0.0000, 0.0000, 0.0000,\n",
       "           0.0000, 0.0000, 0.0000, 0.0000, 0.0000, 0.0000, 0.0000, 0.0000,\n",
       "           0.0000, 0.0000, 0.0000, 0.0000, 0.0000, 0.0000, 0.0000, 0.0000,\n",
       "           0.0000, 0.0000, 0.0000, 0.0000],\n",
       "          [0.0000, 0.0000, 0.0000, 0.0000, 0.0000, 0.0000, 0.0000, 0.0000,\n",
       "           0.0000, 0.0000, 0.0000, 0.0000, 0.0000, 0.0000, 0.0000, 0.0000,\n",
       "           0.0000, 0.0000, 0.0000, 0.0000, 0.0000, 0.0000, 0.0000, 0.0000,\n",
       "           0.0000, 0.0000, 0.0000, 0.0000]]]),\n",
       " 9)"
      ]
     },
     "execution_count": 3,
     "metadata": {},
     "output_type": "execute_result"
    }
   ],
   "source": [
    "image,label= train_data[0]\n",
    "image, label"
   ]
  },
  {
   "cell_type": "code",
   "execution_count": 4,
   "id": "36c2a33e",
   "metadata": {},
   "outputs": [],
   "source": [
    "class_name=train_data.classes"
   ]
  },
  {
   "cell_type": "code",
   "execution_count": 5,
   "id": "905ffa00",
   "metadata": {},
   "outputs": [
    {
     "data": {
      "text/plain": [
       "{'T-shirt/top': 0,\n",
       " 'Trouser': 1,\n",
       " 'Pullover': 2,\n",
       " 'Dress': 3,\n",
       " 'Coat': 4,\n",
       " 'Sandal': 5,\n",
       " 'Shirt': 6,\n",
       " 'Sneaker': 7,\n",
       " 'Bag': 8,\n",
       " 'Ankle boot': 9}"
      ]
     },
     "execution_count": 5,
     "metadata": {},
     "output_type": "execute_result"
    }
   ],
   "source": [
    "class_to_idx= train_data.class_to_idx\n",
    "class_to_idx"
   ]
  },
  {
   "cell_type": "code",
   "execution_count": 6,
   "id": "02538e39",
   "metadata": {},
   "outputs": [
    {
     "data": {
      "text/plain": [
       "(torch.Size([1, 28, 28]), 'Ankle boot')"
      ]
     },
     "execution_count": 6,
     "metadata": {},
     "output_type": "execute_result"
    }
   ],
   "source": [
    "image.shape, class_name[label]"
   ]
  },
  {
   "cell_type": "markdown",
   "id": "8d7eea2e",
   "metadata": {},
   "source": [
    "### Visualize our data"
   ]
  },
  {
   "cell_type": "code",
   "execution_count": 7,
   "id": "f8b8b60b",
   "metadata": {},
   "outputs": [
    {
     "data": {
      "text/plain": [
       "<matplotlib.image.AxesImage at 0x23d84ec2660>"
      ]
     },
     "execution_count": 7,
     "metadata": {},
     "output_type": "execute_result"
    },
    {
     "data": {
      "image/png": "[encoded data removed]",
      "text/plain": [
       "<Figure size 640x480 with 1 Axes>"
      ]
     },
     "metadata": {},
     "output_type": "display_data"
    }
   ],
   "source": [
    "plt.imshow(image.squeeze())"
   ]
  },
  {
   "cell_type": "code",
   "execution_count": 8,
   "id": "7ee709c0",
   "metadata": {},
   "outputs": [
    {
     "data": {
      "image/png": "[encoded data removed]",
      "text/plain": [
       "<Figure size 900x900 with 16 Axes>"
      ]
     },
     "metadata": {},
     "output_type": "display_data"
    }
   ],
   "source": [
    "# plot more images\n",
    "torch.manual_seed(42)\n",
    "fig= plt.figure(figsize=(9,9))\n",
    "rows,cols=4,4\n",
    "for i in range(1,rows*cols+1):\n",
    "    random_idx= torch.randint(0,len(train_data),size=[1]).item()\n",
    "    img, label= train_data[random_idx]\n",
    "    # print(label)\n",
    "    fig.add_subplot(rows,cols,i)\n",
    "    plt.imshow(img.squeeze(), cmap='gray')\n",
    "    plt.title(class_name[label])\n",
    "    plt.axis(False)\n"
   ]
  },
  {
   "cell_type": "markdown",
   "id": "80c26e75",
   "metadata": {},
   "source": [
    "### Prepare the dataloader\n",
    "`torch.utils.data` "
   ]
  },
  {
   "cell_type": "code",
   "execution_count": 9,
   "id": "7e0ba576",
   "metadata": {},
   "outputs": [],
   "source": [
    "from torch.utils.data import DataLoader\n",
    "\n",
    "batch_size=32\n",
    "\n",
    "train_data_loader=DataLoader(dataset=train_data,batch_size=batch_size,shuffle=True)\n",
    "\n",
    "test_data_loader=DataLoader(dataset=test_data, batch_size=batch_size, shuffle=False)"
   ]
  },
  {
   "cell_type": "code",
   "execution_count": 10,
   "id": "96e9ccf7",
   "metadata": {},
   "outputs": [
    {
     "name": "stdout",
     "output_type": "stream",
     "text": [
      "DataLoader: (<torch.utils.data.dataloader.DataLoader object at 0x0000023D84EC30E0>, <torch.utils.data.dataloader.DataLoader object at 0x0000023D853FD810>)\n",
      "Length of Data Loaders : (1875, 313)\n"
     ]
    }
   ],
   "source": [
    "# Lets checkout \n",
    "print(f'DataLoader: {train_data_loader, test_data_loader}')\n",
    "print(f'Length of Data Loaders : {len(train_data_loader),len(test_data_loader)}')"
   ]
  },
  {
   "cell_type": "code",
   "execution_count": 11,
   "id": "fc9e4042",
   "metadata": {},
   "outputs": [],
   "source": [
    "train_features_batch,train_label_batch=next(iter(train_data_loader))"
   ]
  },
  {
   "cell_type": "code",
   "execution_count": 12,
   "id": "4243d603",
   "metadata": {},
   "outputs": [
    {
     "data": {
      "text/plain": [
       "(np.float64(-0.5), np.float64(27.5), np.float64(27.5), np.float64(-0.5))"
      ]
     },
     "execution_count": 12,
     "metadata": {},
     "output_type": "execute_result"
    },
    {
     "data": {
      "image/png": "[encoded data removed]",
      "text/plain": [
       "<Figure size 640x480 with 1 Axes>"
      ]
     },
     "metadata": {},
     "output_type": "display_data"
    }
   ],
   "source": [
    "# show a sample\n",
    "torch.manual_seed(42)\n",
    "random_idx= torch.randint(0,len(train_features_batch),size=[1]).item()\n",
    "img,label=train_features_batch[random_idx],train_label_batch[random_idx]\n",
    "plt.imshow(img.squeeze(),cmap='gray')\n",
    "plt.title(class_name[label])\n",
    "plt.axis(False)"
   ]
  },
  {
   "cell_type": "markdown",
   "id": "69461f7f",
   "metadata": {},
   "source": [
    "### Building the model\n",
    "Start with baseline model\n",
    "it is simple. But day by day , improve the model and add complexity"
   ]
  },
  {
   "cell_type": "code",
   "execution_count": 13,
   "id": "443fef21",
   "metadata": {},
   "outputs": [
    {
     "name": "stdout",
     "output_type": "stream",
     "text": [
      "Shape before flattening: torch.Size([1, 28, 28]) -> [color_channels, height, width]\n",
      "Shape after flattening: torch.Size([1, 784]) -> [color_channels, height*width]\n"
     ]
    }
   ],
   "source": [
    "# Create a flatten layer\n",
    "flatten_model = nn.Flatten() # all nn modules function as a model (can do a forward pass)\n",
    "\n",
    "# Get a single sample\n",
    "x = train_features_batch[0]\n",
    "\n",
    "# Flatten the sample\n",
    "output = flatten_model(x) # perform forward pass\n",
    "\n",
    "# Print out what happened\n",
    "print(f\"Shape before flattening: {x.shape} -> [color_channels, height, width]\")\n",
    "print(f\"Shape after flattening: {output.shape} -> [color_channels, height*width]\")\n",
    "\n",
    "# Try uncommenting below and see what happens\n",
    "#print(x)\n",
    "#print(output)"
   ]
  },
  {
   "cell_type": "code",
   "execution_count": 14,
   "id": "f560ae0e",
   "metadata": {},
   "outputs": [],
   "source": [
    "from torch import nn\n",
    "class FashionMNISTModelV0(nn.Module):\n",
    "    def __init__(self, input_shape: int, hidden_units: int, output_shape: int):\n",
    "        super().__init__()\n",
    "        self.layer_stack = nn.Sequential(\n",
    "            nn.Flatten(), # neural networks like their inputs in vector form\n",
    "            nn.Linear(in_features=input_shape, out_features=hidden_units), # in_features = number of features in a data sample (784 pixels)\n",
    "            nn.Linear(in_features=hidden_units, out_features=output_shape)\n",
    "        )\n",
    "    \n",
    "    def forward(self, x):\n",
    "        return self.layer_stack(x)"
   ]
  },
  {
   "cell_type": "code",
   "execution_count": 15,
   "id": "ff8587b5",
   "metadata": {},
   "outputs": [
    {
     "data": {
      "text/plain": [
       "FashionMNISTModelV0(\n",
       "  (layer_stack): Sequential(\n",
       "    (0): Flatten(start_dim=1, end_dim=-1)\n",
       "    (1): Linear(in_features=784, out_features=10, bias=True)\n",
       "    (2): Linear(in_features=10, out_features=10, bias=True)\n",
       "  )\n",
       ")"
      ]
     },
     "execution_count": 15,
     "metadata": {},
     "output_type": "execute_result"
    }
   ],
   "source": [
    "torch.manual_seed(42)\n",
    "\n",
    "# Need to setup model with input parameters\n",
    "model_0 = FashionMNISTModelV0(input_shape=784, # one for every pixel (28x28)\n",
    "    hidden_units=10, # how many units in the hidden layer\n",
    "    output_shape=len(class_name) # one for every class\n",
    ")\n",
    "model_0.to(\"cpu\") # keep model on CPU to begin with "
   ]
  },
  {
   "cell_type": "markdown",
   "id": "ec7f52c3",
   "metadata": {},
   "source": [
    "### Setup loss, optimizer and evaluation metrics\n",
    "\n",
    "* Using accuracy as evaluation metrics"
   ]
  },
  {
   "cell_type": "code",
   "execution_count": 16,
   "id": "2493e9a3",
   "metadata": {},
   "outputs": [],
   "source": [
    "import requests\n",
    "from pathlib import Path\n",
    "\n",
    "request=requests.get(\"https://raw.githubusercontent.com/mrdbourke/pytorch-deep-learning/refs/heads/main/helper_functions.py\")\n",
    "with open(\"helper_functions.py\",\"wb\") as f:\n",
    "    f.write(request.content)"
   ]
  },
  {
   "cell_type": "code",
   "execution_count": 17,
   "id": "8d47e952",
   "metadata": {},
   "outputs": [],
   "source": [
    "from helper_functions import accuracy_fn\n",
    "\n",
    "# Setup loss function\n",
    "\n",
    "loss_fn= nn.CrossEntropyLoss()\n",
    "optimizer= torch.optim.SGD(params=model_0.parameters(),lr=0.1)"
   ]
  },
  {
   "cell_type": "markdown",
   "id": "71a00255",
   "metadata": {},
   "source": [
    "### Creating a function to time our experiments\n",
    "\n",
    "Machine learning is very experimental\n",
    "\n",
    "Two of the main things we will often want to track on are:\n",
    "* Model's performance (loss and accuracy) \n",
    "* How fast does it run??"
   ]
  },
  {
   "cell_type": "code",
   "execution_count": 18,
   "id": "87d5759c",
   "metadata": {},
   "outputs": [],
   "source": [
    "# we will see how our code run fast in `cpu` and `cuda`\n",
    "from timeit import default_timer as timer\n",
    "\n",
    "def print_train_time(start: float,\n",
    "                     end: float,\n",
    "                     device: torch.device= None):\n",
    "    \"\"\"Print difference between start and end time\"\"\"\n",
    "    total_time= end-start\n",
    "    print(f\"Train time on {device}:{total_time: .3f}\")\n",
    "    return total_time"
   ]
  },
  {
   "cell_type": "code",
   "execution_count": 19,
   "id": "f1bafa0e",
   "metadata": {},
   "outputs": [
    {
     "name": "stdout",
     "output_type": "stream",
     "text": [
      "Train time on cpu: 0.000\n"
     ]
    },
    {
     "data": {
      "text/plain": [
       "2.6400004571769387e-05"
      ]
     },
     "execution_count": 19,
     "metadata": {},
     "output_type": "execute_result"
    }
   ],
   "source": [
    "start_time=timer()\n",
    "end_time=timer()\n",
    "\n",
    "print_train_time(start=start_time,end=end_time, device='cpu')"
   ]
  },
  {
   "cell_type": "markdown",
   "id": "e3c496b2",
   "metadata": {},
   "source": [
    "### Creating a training loop and training a model on batches of data\n",
    "\n",
    "1. loop through epochs\n",
    "2. loop through training batches, perform training stepes, calculate the train loss *per_batch*\n",
    "3. Loop through testing batches, perform testing steps, calculate the test loss *per batch*\n",
    "4. print out what's happenin'\n",
    "5. Time it all( for fun)\n",
    "\n",
    "Highlight that the optimizer will update a model's parameters once per batch rather than once per epoch"
   ]
  },
  {
   "cell_type": "code",
   "execution_count": 20,
   "id": "1000d3e9",
   "metadata": {},
   "outputs": [
    {
     "data": {
      "application/vnd.jupyter.widget-view+json": {
       "model_id": "10ba9f8bef5c4978a608757ff2edf7a6",
       "version_major": 2,
       "version_minor": 0
      },
      "text/plain": [
       "  0%|          | 0/3 [00:00<?, ?it/s]"
      ]
     },
     "metadata": {},
     "output_type": "display_data"
    },
    {
     "name": "stdout",
     "output_type": "stream",
     "text": [
      "Epoch: 0 \n",
      "------\n",
      "Looked at 0/60000 samples\n",
      "Looked at 12800/60000 samples\n",
      "Looked at 25600/60000 samples\n",
      "Looked at 38400/60000 samples\n",
      "Looked at 51200/60000 samples\n",
      "\n",
      "Train loss : 0.5904 | Test loss: 0.5095, Test acc: 82.0387\n",
      "Epoch: 1 \n",
      "------\n",
      "Looked at 0/60000 samples\n",
      "Looked at 12800/60000 samples\n",
      "Looked at 25600/60000 samples\n",
      "Looked at 38400/60000 samples\n",
      "Looked at 51200/60000 samples\n",
      "\n",
      "Train loss : 0.4763 | Test loss: 0.4799, Test acc: 83.1969\n",
      "Epoch: 2 \n",
      "------\n",
      "Looked at 0/60000 samples\n",
      "Looked at 12800/60000 samples\n",
      "Looked at 25600/60000 samples\n",
      "Looked at 38400/60000 samples\n",
      "Looked at 51200/60000 samples\n",
      "\n",
      "Train loss : 0.4550 | Test loss: 0.4766, Test acc: 83.4265\n",
      "Train time on cpu: 13.890\n"
     ]
    }
   ],
   "source": [
    "# import tqdm . it will give us progress bar\n",
    "import tqdm\n",
    "from tqdm.auto import tqdm\n",
    "\n",
    "# set the seed and start the timer\n",
    "torch.manual_seed(42)\n",
    "train_time_start_on_cpu= timer()\n",
    "\n",
    "# set the number of epochs\n",
    "epochs=3\n",
    "\n",
    "# create traininfg and test loop\n",
    "for epoch in tqdm(range(epochs)):\n",
    "    print(f'Epoch: {epoch} \\n------')\n",
    "\n",
    "    #training\n",
    "    train_loss=0\n",
    "    # add a loop to loop through the training batch\n",
    "    for batch, (X,y) in enumerate(train_data_loader):\n",
    "        model_0.train()\n",
    "\n",
    "        #forward pass\n",
    "        y_pred=model_0(X)\n",
    "\n",
    "        loss= loss_fn(y_pred,y)\n",
    "        train_loss +=loss #accumulate train loss\n",
    "\n",
    "        optimizer.zero_grad()\n",
    "        loss.backward()\n",
    "        optimizer.step()\n",
    "\n",
    "        #print out\n",
    "        if batch%400==0:\n",
    "            print(f'Looked at {batch*len(X)}/{len(train_data_loader.dataset)} samples')\n",
    "    \n",
    "    # ajust the training batch- divide total train loss by length of train dataloader\n",
    "    train_loss /=len(train_data_loader)\n",
    "\n",
    "    ### testing\n",
    "    test_loss,test_acc=0,0\n",
    "    model_0.eval()\n",
    "\n",
    "    with torch.inference_mode():\n",
    "        for X_test, y_test in test_data_loader:\n",
    "            #forward pass\n",
    "\n",
    "            test_pred=model_0(X_test)\n",
    "\n",
    "            test_loss += loss_fn(test_pred, y_test)\n",
    "            test_acc += accuracy_fn(y_true= y_test, y_pred=test_pred.argmax(dim=1)) ## we are comparing label to label. y values contain label\n",
    "\n",
    "        # Calculate the test loss average per batch\n",
    "        test_loss /= len(test_data_loader)\n",
    "\n",
    "        # Calculate the test acc average per batch\n",
    "        test_acc /=len(test_data_loader)\n",
    "    \n",
    "    #print out    \n",
    "    print(f'\\nTrain loss : {train_loss:.4f} | Test loss: {test_loss :.4f}, Test acc: {test_acc:.4f}')\n",
    "\n",
    "# Calculate training time\n",
    "train_time_end_on_cpu= timer()\n",
    "total_train_time_model_0= print_train_time(start=train_time_start_on_cpu, end= train_time_end_on_cpu, device= str(next(model_0.parameters()).device))"
   ]
  },
  {
   "cell_type": "markdown",
   "id": "859adbe0",
   "metadata": {},
   "source": [
    "### Make prediction and get Model_0 results"
   ]
  },
  {
   "cell_type": "code",
   "execution_count": 21,
   "id": "e044483b",
   "metadata": {},
   "outputs": [
    {
     "data": {
      "application/vnd.jupyter.widget-view+json": {
       "model_id": "80d2ce2a63444872953d0dbd03bb2d9c",
       "version_major": 2,
       "version_minor": 0
      },
      "text/plain": [
       "  0%|          | 0/313 [00:00<?, ?it/s]"
      ]
     },
     "metadata": {},
     "output_type": "display_data"
    },
    {
     "data": {
      "text/plain": [
       "{'model_name': 'FashionMNISTModelV0',\n",
       " 'model_loss': 0.47663894295692444,\n",
       " 'model_acc': 83.42651757188499}"
      ]
     },
     "execution_count": 21,
     "metadata": {},
     "output_type": "execute_result"
    }
   ],
   "source": [
    "torch. manual_seed(42)\n",
    "\n",
    "## You can use this function when ever you need. no matter what the data is  ##\n",
    "def eval_model(model: torch.nn.Module,\n",
    "               data_loader: torch.utils.data.DataLoader,\n",
    "               loss_fn: torch.nn.Module,\n",
    "               accuracy_fn):\n",
    "    \"\"\"Returns a dictionary containing the results of model predicting on data_loader\"\"\"\n",
    "    loss, acc=0,0\n",
    "    model.eval()\n",
    "    with torch. inference_mode():\n",
    "        for X,y in tqdm(data_loader):\n",
    "           # make predictions\n",
    "           y_pred = model(X)\n",
    "\n",
    "           # accumulate the loss and acc values per batch\n",
    "           loss +=loss_fn(y_pred,y)\n",
    "           acc +=accuracy_fn(y_true=y, y_pred=y_pred.argmax(dim=1))\n",
    "        # Scale loss and acc to find the average loss/acc per batch\n",
    "        loss /=len(data_loader)\n",
    "        acc /= len(data_loader)\n",
    "    \n",
    "    return {'model_name':model.__class__.__name__,\n",
    "            'model_loss': loss.item(),\n",
    "            'model_acc': acc}\n",
    "\n",
    "# Calculate model_0 results on test datasets\n",
    "model_0_results = eval_model(model=model_0,          \n",
    "                            data_loader=test_data_loader,\n",
    "                            loss_fn=loss_fn,\n",
    "                            accuracy_fn=accuracy_fn)\n",
    "\n",
    "model_0_results\n",
    "            "
   ]
  },
  {
   "cell_type": "markdown",
   "id": "54a207bd",
   "metadata": {},
   "source": [
    "## Setup device-agnostic code"
   ]
  },
  {
   "cell_type": "code",
   "execution_count": 22,
   "id": "2c9c6784",
   "metadata": {},
   "outputs": [],
   "source": [
    "import torch\n",
    "\n",
    "device= 'cuda' if torch.cuda.is_available() else 'cpu'"
   ]
  },
  {
   "cell_type": "markdown",
   "id": "515ef5d6",
   "metadata": {},
   "source": [
    "### Model_1 : Building a better model with non-linearity"
   ]
  },
  {
   "cell_type": "code",
   "execution_count": 23,
   "id": "dd85e141",
   "metadata": {},
   "outputs": [],
   "source": [
    "class FashionMNISTModelV1(nn.Module):\n",
    "    def __init__(self,\n",
    "                 input_shape: int,\n",
    "                 hidden_units:int,\n",
    "                 output_shape:int,):\n",
    "        super().__init__()\n",
    "        self.stack_layer= nn.Sequential(\n",
    "            nn.Flatten(), ## flatten input into a single vector\n",
    "            nn.Linear(in_features=input_shape,out_features=hidden_units),\n",
    "            nn.ReLU(),\n",
    "            nn.Linear(in_features=hidden_units, out_features=output_shape),\n",
    "            nn.ReLU()\n",
    "        )\n",
    "    \n",
    "    def __call__(self,x : torch.Tensor):\n",
    "        return self.stack_layer(x)\n",
    "\n",
    "    "
   ]
  },
  {
   "cell_type": "code",
   "execution_count": 24,
   "id": "84dae6dc",
   "metadata": {},
   "outputs": [],
   "source": [
    "# creat instance of model_1\n",
    "\n",
    "torch.manual_seed(42)\n",
    "torch.set_float32_matmul_precision('high')\n",
    "model_1=FashionMNISTModelV1(input_shape=784,\n",
    "                            hidden_units=10,\n",
    "                            output_shape=len(class_name)).to(device)\n",
    "\n",
    "# next(model_1.parameters()).device"
   ]
  },
  {
   "cell_type": "code",
   "execution_count": 25,
   "id": "55d66db6",
   "metadata": {},
   "outputs": [],
   "source": [
    "optimizer=torch.optim.SGD(params=model_1.parameters(),lr=0.1)"
   ]
  },
  {
   "cell_type": "markdown",
   "id": "12c66f70",
   "metadata": {},
   "source": [
    "### Functionizing training and testing loop\n",
    "* train_step()\n",
    "* testing_step()"
   ]
  },
  {
   "cell_type": "code",
   "execution_count": 26,
   "id": "cc7c7ca7",
   "metadata": {},
   "outputs": [],
   "source": [
    "def train_step(model: torch.nn.Module,\n",
    "               data_loader: torch.utils.data.DataLoader,\n",
    "               loss_fn: torch.nn.Module,\n",
    "               optimizer: torch.optim.Optimizer,\n",
    "               accuracy_fn,\n",
    "               device: torch.device = device):\n",
    "    \n",
    "    train_loss,train_acc=0,0\n",
    "\n",
    "    model.train()\n",
    "    #training\n",
    "    train_loss=0\n",
    "    # add a loop to loop through the training batch\n",
    "    for batch, (X,y) in enumerate(data_loader):\n",
    "        #put data on target device\n",
    "        X,y=X.to(device),y.to(device)\n",
    "        #forward pass\n",
    "        y_pred=model(X)\n",
    "\n",
    "        loss= loss_fn(y_pred,y)\n",
    "        train_loss +=loss #accumulate train loss\n",
    "        train_acc +=accuracy_fn(y_true=y, y_pred=y_pred.argmax(dim=1))\n",
    "\n",
    "        optimizer.zero_grad()\n",
    "        loss.backward()\n",
    "        optimizer.step()\n",
    "    \n",
    "    # ajust the training batch- divide total train loss by length of train dataloader\n",
    "    train_loss /=len(data_loader)\n",
    "    train_acc /=len(data_loader)\n",
    "    print(f'Train_loss: {train_loss:.3f} | Train_acc: {train_acc:.3f}')"
   ]
  },
  {
   "cell_type": "code",
   "execution_count": 27,
   "id": "ef85b5bf",
   "metadata": {},
   "outputs": [],
   "source": [
    "def testing_step(model:torch.nn.Module,\n",
    "              data_loader: torch.utils.data.DataLoader,\n",
    "              loss_fn: torch.nn.Module,\n",
    "              accuracy_fn,\n",
    "              device: torch.device=device):\n",
    "    \n",
    "    test_loss,test_acc=0,0\n",
    "    model.eval()\n",
    "\n",
    "    with torch.inference_mode():\n",
    "        for X, y in data_loader:\n",
    "            X,y= X.to(device), y.to(device)\n",
    "            #forward pass\n",
    "            test_pred=model(X)\n",
    "\n",
    "            test_loss += loss_fn(test_pred, y)\n",
    "            test_acc += accuracy_fn(y_true= y, y_pred=test_pred.argmax(dim=1)) ## we are comparing label to label. y values contain label\n",
    "\n",
    "        # Calculate the test loss average per batch\n",
    "        test_loss /= len(data_loader)\n",
    "\n",
    "        # Calculate the test acc average per batch\n",
    "        test_acc /=len(data_loader)\n",
    "    \n",
    "    #print out    \n",
    "    print(f'Test loss: {test_loss :.5f}|Test acc: {test_acc:.5f}')\n",
    "    "
   ]
  },
  {
   "cell_type": "code",
   "execution_count": 28,
   "id": "aed6665a",
   "metadata": {},
   "outputs": [
    {
     "data": {
      "application/vnd.jupyter.widget-view+json": {
       "model_id": "eba3041f05564dd5938d9e1c7690288d",
       "version_major": 2,
       "version_minor": 0
      },
      "text/plain": [
       "  0%|          | 0/3 [00:00<?, ?it/s]"
      ]
     },
     "metadata": {},
     "output_type": "display_data"
    },
    {
     "name": "stdout",
     "output_type": "stream",
     "text": [
      "\n",
      "Epoch: 0\n",
      "------\n",
      "Train_loss: 1.078 | Train_acc: 61.605\n",
      "Test loss: 0.94085|Test acc: 65.64497\n",
      "\n",
      "Epoch: 1\n",
      "------\n",
      "Train_loss: 0.918 | Train_acc: 66.047\n",
      "Test loss: 0.90372|Test acc: 66.33387\n",
      "\n",
      "Epoch: 2\n",
      "------\n",
      "Train_loss: 0.882 | Train_acc: 67.008\n",
      "Test loss: 0.88246|Test acc: 66.69329\n",
      "Train time on cuda: 18.550\n"
     ]
    }
   ],
   "source": [
    "torch.manual_seed(42) \n",
    "\n",
    "#measure time\n",
    "from timeit import default_timer as timer\n",
    "train_time_start_on_gpu= timer()\n",
    "\n",
    "epochs=3\n",
    "for epoch in tqdm(range(epochs)):\n",
    "    print(f'\\nEpoch: {epoch}\\n------')\n",
    "    \n",
    "    train_step(model=model_1,\n",
    "               data_loader=train_data_loader,\n",
    "               loss_fn=loss_fn,\n",
    "               optimizer=optimizer,\n",
    "               accuracy_fn=accuracy_fn,\n",
    "               device=device)\n",
    "    \n",
    "    testing_step(model=model_1,\n",
    "                 data_loader=test_data_loader,\n",
    "                 loss_fn=loss_fn,\n",
    "                 accuracy_fn=accuracy_fn,\n",
    "                 device=device)\n",
    "\n",
    "train_time_end_on_gpu= timer()\n",
    "\n",
    "\n",
    "total_train_time_model_1=print_train_time (start=train_time_start_on_gpu,\n",
    " end=train_time_end_on_gpu,\n",
    " device=device)"
   ]
  },
  {
   "cell_type": "code",
   "execution_count": 29,
   "id": "6463a072",
   "metadata": {},
   "outputs": [
    {
     "data": {
      "text/plain": [
       "13.88993009999831"
      ]
     },
     "execution_count": 29,
     "metadata": {},
     "output_type": "execute_result"
    }
   ],
   "source": [
    "total_train_time_model_0"
   ]
  },
  {
   "cell_type": "code",
   "execution_count": 30,
   "id": "b4ac9bad",
   "metadata": {},
   "outputs": [
    {
     "data": {
      "text/plain": [
       "{'model_name': 'FashionMNISTModelV0',\n",
       " 'model_loss': 0.47663894295692444,\n",
       " 'model_acc': 83.42651757188499}"
      ]
     },
     "execution_count": 30,
     "metadata": {},
     "output_type": "execute_result"
    }
   ],
   "source": [
    "model_0_results"
   ]
  },
  {
   "cell_type": "code",
   "execution_count": 31,
   "id": "5d21be0f",
   "metadata": {},
   "outputs": [],
   "source": [
    "torch.manual_seed(42)\n",
    "def eval_model(model: torch.nn.Module,\n",
    "               data_loader: torch.utils.data.DataLoader,\n",
    "               loss_fn: torch.nn.Module,\n",
    "               accuracy_fn,\n",
    "               device:torch.device=device):\n",
    "    \"\"\"Returns a dictionary containing the results of model predicting on data_loader\"\"\"\n",
    "    loss, acc=0,0\n",
    "    model.eval()\n",
    "    with torch. inference_mode():\n",
    "        for X,y in tqdm(data_loader):\n",
    "           X,y=X.to(device),y.to(device)\n",
    "           # make predictions\n",
    "           y_pred = model(X)\n",
    "\n",
    "           # accumulate the loss and acc values per batch\n",
    "           loss +=loss_fn(y_pred,y)\n",
    "           acc +=accuracy_fn(y_true=y, y_pred=y_pred.argmax(dim=1))\n",
    "        # Scale loss and acc to find the average loss/acc per batch\n",
    "        loss /=len(data_loader)\n",
    "        acc /= len(data_loader)\n",
    "    \n",
    "    return {'model_name':model.__class__.__name__,\n",
    "            'model_loss': loss.item(),\n",
    "            'model_acc': acc}"
   ]
  },
  {
   "cell_type": "code",
   "execution_count": 32,
   "id": "db402478",
   "metadata": {},
   "outputs": [
    {
     "data": {
      "application/vnd.jupyter.widget-view+json": {
       "model_id": "24eb8b7a69e84b16bd40fd4ea6d028df",
       "version_major": 2,
       "version_minor": 0
      },
      "text/plain": [
       "  0%|          | 0/313 [00:00<?, ?it/s]"
      ]
     },
     "metadata": {},
     "output_type": "display_data"
    },
    {
     "data": {
      "text/plain": [
       "{'model_name': 'FashionMNISTModelV1',\n",
       " 'model_loss': 0.8824601173400879,\n",
       " 'model_acc': 66.69329073482429}"
      ]
     },
     "execution_count": 32,
     "metadata": {},
     "output_type": "execute_result"
    }
   ],
   "source": [
    "model_1_results=eval_model(model=model_1,\n",
    "                           data_loader=test_data_loader,\n",
    "                           loss_fn=loss_fn,\n",
    "                           accuracy_fn=accuracy_fn,\n",
    "                           device=device)\n",
    "model_1_results"
   ]
  },
  {
   "cell_type": "markdown",
   "id": "2faee4b5",
   "metadata": {},
   "source": [
    "### Coding our first Convolutional Neural Network\n",
    "\n",
    "CNN's are also known as ConvNets\n",
    "CNN's are known for their capabilities to find patterns in visual data"
   ]
  },
  {
   "cell_type": "code",
   "execution_count": 33,
   "id": "ae04ed74",
   "metadata": {},
   "outputs": [],
   "source": [
    "\n",
    "\n",
    "# Create a convolutional neural network\n",
    "class FashionMNISTModelV2(nn.Module):\n",
    "    def __init__(self, input_shape:int,\n",
    "                 hidden_units:int,\n",
    "                 output_shape:int):\n",
    "        super().__init__()\n",
    "        self.conv_block_1=nn.Sequential(\n",
    "            nn.Conv2d(in_channels=input_shape,\n",
    "                      out_channels=hidden_units,\n",
    "                      kernel_size=3,\n",
    "                      stride=1,\n",
    "                      padding=1), #these are  hyperparameters \n",
    "            nn.ReLU(),\n",
    "            nn.Conv2d(in_channels=hidden_units,\n",
    "                      out_channels=hidden_units,\n",
    "                      kernel_size=3,\n",
    "                      stride=1,\n",
    "                      padding=1),\n",
    "            nn.ReLU(),\n",
    "            nn.MaxPool2d(kernel_size=2)\n",
    "\n",
    "        )\n",
    "        self.conv_block_2= nn.Sequential(\n",
    "            nn.Conv2d(in_channels=hidden_units,\n",
    "                      out_channels=hidden_units,\n",
    "                      kernel_size=3,\n",
    "                      stride=1,\n",
    "                      padding=1),\n",
    "            nn.ReLU(),\n",
    "            nn.Conv2d(in_channels=hidden_units,\n",
    "                      out_channels=hidden_units,\n",
    "                      kernel_size=3,\n",
    "                      stride=1,\n",
    "                      padding=1),\n",
    "            nn.ReLU(),\n",
    "            nn.MaxPool2d(kernel_size=2)\n",
    "        )\n",
    "        self.classifier= nn.Sequential(\n",
    "            nn.Flatten(),\n",
    "            nn.Linear(in_features=hidden_units*7*7, # threre is a trick to calculate it\n",
    "                      out_features=output_shape)\n",
    "        )\n",
    "    \n",
    "    def __call__(self,x):\n",
    "        \n",
    "        x=self.conv_block_1(x)\n",
    "        # print(x.shape)\n",
    "        x=self.conv_block_2(x)\n",
    "        # print(x.shape)\n",
    "        x=self.classifier(x)\n",
    "        # print(x.shape)\n",
    "        return x"
   ]
  },
  {
   "cell_type": "code",
   "execution_count": 34,
   "id": "109682fe",
   "metadata": {},
   "outputs": [],
   "source": [
    "import torch\n",
    "\n",
    "torch.manual_seed(42)\n",
    "model_2=FashionMNISTModelV2(input_shape=1, # cz the color channel of our image is 1\n",
    "                            hidden_units=10, #number of classes, here it is 10\n",
    "                            output_shape=len(class_name)).to(device)"
   ]
  },
  {
   "cell_type": "code",
   "execution_count": 35,
   "id": "09bce839",
   "metadata": {},
   "outputs": [
    {
     "data": {
      "text/plain": [
       "tensor([[ 0.0366, -0.0940,  0.0686, -0.0485,  0.0068,  0.0290,  0.0132,  0.0084,\n",
       "         -0.0030, -0.0185]], device='cuda:0', grad_fn=<AddmmBackward0>)"
      ]
     },
     "execution_count": 35,
     "metadata": {},
     "output_type": "execute_result"
    }
   ],
   "source": [
    "rand_image_tensor= torch.randn(size=(1,28,28)).unsqueeze(0)\n",
    "model_2(rand_image_tensor.to(device))"
   ]
  },
  {
   "cell_type": "markdown",
   "id": "33acc4e8",
   "metadata": {},
   "source": [
    "### Stepping through `Conv2D`"
   ]
  },
  {
   "cell_type": "code",
   "execution_count": 36,
   "id": "33d6c696",
   "metadata": {},
   "outputs": [
    {
     "data": {
      "text/plain": [
       "tensor([[[ 1.9269,  1.4873,  0.9007,  ...,  1.8446, -1.1845,  1.3835],\n",
       "         [ 1.4451,  0.8564,  2.2181,  ...,  0.3399,  0.7200,  0.4114],\n",
       "         [ 1.9312,  1.0119, -1.4364,  ..., -0.5558,  0.7043,  0.7099],\n",
       "         ...,\n",
       "         [-0.5610, -0.4830,  0.4770,  ..., -0.2713, -0.9537, -0.6737],\n",
       "         [ 0.3076, -0.1277,  0.0366,  ..., -2.0060,  0.2824, -0.8111],\n",
       "         [-1.5486,  0.0485, -0.7712,  ..., -0.1403,  0.9416, -0.0118]],\n",
       "\n",
       "        [[-0.5197,  1.8524,  1.8365,  ...,  0.8935, -1.5114, -0.8515],\n",
       "         [ 2.0818,  1.0677, -1.4277,  ...,  1.6612, -2.6223, -0.4319],\n",
       "         [-0.1010, -0.4388, -1.9775,  ...,  0.2106,  0.2536, -0.7318],\n",
       "         ...,\n",
       "         [ 0.2779,  0.7342, -0.3736,  ..., -0.4601,  0.1815,  0.1850],\n",
       "         [ 0.7205, -0.2833,  0.0937,  ..., -0.1002, -2.3609,  2.2465],\n",
       "         [-1.3242, -0.1973,  0.2920,  ...,  0.5409,  0.6940,  1.8563]],\n",
       "\n",
       "        [[-0.7978,  1.0261,  1.1465,  ...,  1.2134,  0.9354, -0.0780],\n",
       "         [-1.4647, -1.9571,  0.1017,  ..., -1.9986, -0.7409,  0.7011],\n",
       "         [-1.3938,  0.8466, -1.7191,  ..., -1.1867,  0.1320,  0.3407],\n",
       "         ...,\n",
       "         [ 0.8206, -0.3745,  1.2499,  ..., -0.0676,  0.0385,  0.6335],\n",
       "         [-0.5589, -0.3393,  0.2347,  ...,  2.1181,  2.4569,  1.3083],\n",
       "         [-0.4092,  1.5199,  0.2401,  ..., -0.2558,  0.7870,  0.9924]]])"
      ]
     },
     "execution_count": 36,
     "metadata": {},
     "output_type": "execute_result"
    }
   ],
   "source": [
    "torch.manual_seed(42)\n",
    "\n",
    "#Crreat batch of images\n",
    "images= torch.randn(size=(32,3,64,64))\n",
    "test_image=images[0]\n",
    "test_image"
   ]
  },
  {
   "cell_type": "code",
   "execution_count": 37,
   "id": "11bbbb5b",
   "metadata": {},
   "outputs": [
    {
     "data": {
      "text/plain": [
       "torch.Size([3, 64, 64])"
      ]
     },
     "execution_count": 37,
     "metadata": {},
     "output_type": "execute_result"
    }
   ],
   "source": [
    "test_image.shape"
   ]
  },
  {
   "cell_type": "code",
   "execution_count": 38,
   "id": "3e432765",
   "metadata": {},
   "outputs": [
    {
     "data": {
      "text/plain": [
       "torch.Size([1, 10, 64, 64])"
      ]
     },
     "execution_count": 38,
     "metadata": {},
     "output_type": "execute_result"
    }
   ],
   "source": [
    "torch.manual_seed(42)\n",
    "# Create single Conv2D layer\n",
    "conv_layer= nn.Conv2d(in_channels=3,\n",
    "                      out_channels=10,\n",
    "                      kernel_size=3,\n",
    "                      stride=1,\n",
    "                      padding=1)\n",
    "\n",
    "# pass the data thriough the convolutional layer\n",
    "conv_output=conv_layer(test_image.unsqueeze(0))\n",
    "conv_output.shape"
   ]
  },
  {
   "cell_type": "markdown",
   "id": "c09da028",
   "metadata": {},
   "source": [
    "### Stepping through `nn.MaxPool2d()`"
   ]
  },
  {
   "cell_type": "code",
   "execution_count": 39,
   "id": "85bea315",
   "metadata": {},
   "outputs": [
    {
     "data": {
      "text/plain": [
       "torch.Size([3, 64, 64])"
      ]
     },
     "execution_count": 39,
     "metadata": {},
     "output_type": "execute_result"
    }
   ],
   "source": [
    "test_image.shape"
   ]
  },
  {
   "cell_type": "code",
   "execution_count": 40,
   "id": "ff265415",
   "metadata": {},
   "outputs": [
    {
     "name": "stdout",
     "output_type": "stream",
     "text": [
      "Test image original shape: torch.Size([3, 64, 64])\n",
      "Test image with unsqueezed dimension: torch.Size([1, 3, 64, 64])\n",
      "torch.Size([1, 10, 32, 32])\n"
     ]
    }
   ],
   "source": [
    "# print out original image shape without unsqueezed dimension\n",
    "print(f'Test image original shape: {test_image.shape}')\n",
    "print(f'Test image with unsqueezed dimension: {test_image.unsqueeze(0).shape}')\n",
    "\n",
    "# Create a sample nn.MaxPool2d layer\n",
    "max_pool_layer= nn.MaxPool2d(kernel_size=2)\n",
    "\n",
    "# pass data through maxpool layer\n",
    "test_image_through_conv_and_max_pool=max_pool_layer(conv_output)\n",
    "\n",
    "print(test_image_through_conv_and_max_pool.shape)\n"
   ]
  },
  {
   "cell_type": "code",
   "execution_count": 41,
   "id": "21efd2f6",
   "metadata": {},
   "outputs": [
    {
     "name": "stdout",
     "output_type": "stream",
     "text": [
      "tensor([[[[0.3367]]]])\n",
      "torch.Size([1, 1, 1, 1])\n"
     ]
    }
   ],
   "source": [
    "torch.manual_seed(42)\n",
    "random_tensor=torch.randn(size=(1,1,2,2))\n",
    "max_pool_layer=nn.MaxPool2d(kernel_size=2)\n",
    "\n",
    "max_pool_tensor=max_pool_layer(random_tensor)\n",
    "print(max_pool_tensor)\n",
    "print(max_pool_tensor.shape)"
   ]
  },
  {
   "cell_type": "markdown",
   "id": "86a956ed",
   "metadata": {},
   "source": [
    "### Setup a loss function and optimizer `model_2`"
   ]
  },
  {
   "cell_type": "code",
   "execution_count": 42,
   "id": "17e8ce56",
   "metadata": {},
   "outputs": [],
   "source": [
    "from helper_functions import accuracy_fn\n",
    "\n",
    "loss_fn=nn.CrossEntropyLoss()\n",
    "optimizer=torch.optim.SGD(params=model_2.parameters(),lr=0.1)"
   ]
  },
  {
   "cell_type": "code",
   "execution_count": 43,
   "id": "c7523978",
   "metadata": {},
   "outputs": [
    {
     "data": {
      "application/vnd.jupyter.widget-view+json": {
       "model_id": "17348326ddda4472bf0d09bbe5461141",
       "version_major": 2,
       "version_minor": 0
      },
      "text/plain": [
       "  0%|          | 0/3 [00:00<?, ?it/s]"
      ]
     },
     "metadata": {},
     "output_type": "display_data"
    },
    {
     "name": "stdout",
     "output_type": "stream",
     "text": [
      "\n",
      "Epoch: 0\n",
      "------\n",
      "Train_loss: 0.592 | Train_acc: 78.715\n",
      "Test loss: 0.39129|Test acc: 86.07228\n",
      "\n",
      "Epoch: 1\n",
      "------\n",
      "Train_loss: 0.356 | Train_acc: 87.267\n",
      "Test loss: 0.34021|Test acc: 87.73962\n",
      "\n",
      "Epoch: 2\n",
      "------\n",
      "Train_loss: 0.318 | Train_acc: 88.473\n",
      "Test loss: 0.31772|Test acc: 88.52835\n",
      "Train time on cuda: 22.974\n"
     ]
    }
   ],
   "source": [
    "# Training and testing step\n",
    "\n",
    "torch.manual_seed(42)\n",
    "torch.cuda.manual_seed(42)\n",
    "\n",
    "# measure time \n",
    "from timeit import default_timer as timer\n",
    "train_time_start_model_2=timer()\n",
    "\n",
    "epochs=3\n",
    "for epoch in tqdm(range(epochs)):\n",
    "    print(f'\\nEpoch: {epoch}\\n------')\n",
    "    \n",
    "    train_step(model=model_2,\n",
    "               data_loader=train_data_loader,\n",
    "               loss_fn=loss_fn,\n",
    "               optimizer=optimizer,\n",
    "               accuracy_fn=accuracy_fn,\n",
    "               device=device)\n",
    "    \n",
    "    testing_step(model=model_2,\n",
    "                 data_loader=test_data_loader,\n",
    "                 loss_fn=loss_fn,\n",
    "                 accuracy_fn=accuracy_fn,\n",
    "                 device=device)\n",
    "train_time_end_model_2=timer()\n",
    "total_train_time_model_2=print_train_time(start=train_time_start_model_2,\n",
    "                                          end=train_time_end_model_2,\n",
    "                                          device=device)"
   ]
  },
  {
   "cell_type": "code",
   "execution_count": 44,
   "id": "4324169e",
   "metadata": {},
   "outputs": [
    {
     "data": {
      "application/vnd.jupyter.widget-view+json": {
       "model_id": "489322b078de4ae2bea5fba9cb32a883",
       "version_major": 2,
       "version_minor": 0
      },
      "text/plain": [
       "  0%|          | 0/313 [00:00<?, ?it/s]"
      ]
     },
     "metadata": {},
     "output_type": "display_data"
    },
    {
     "data": {
      "text/plain": [
       "{'model_name': 'FashionMNISTModelV2',\n",
       " 'model_loss': 0.3177203834056854,\n",
       " 'model_acc': 88.52835463258786}"
      ]
     },
     "execution_count": 44,
     "metadata": {},
     "output_type": "execute_result"
    }
   ],
   "source": [
    "# Get model_2 results\n",
    "model_2_results=eval_model(\n",
    "    data_loader=test_data_loader,\n",
    "    model=model_2,\n",
    "    loss_fn=loss_fn,\n",
    "    accuracy_fn=accuracy_fn,\n",
    "    device=device\n",
    ")\n",
    "\n",
    "model_2_results"
   ]
  },
  {
   "cell_type": "markdown",
   "id": "30a7bb80",
   "metadata": {},
   "source": [
    "### Compare the model results"
   ]
  },
  {
   "cell_type": "code",
   "execution_count": 45,
   "id": "19a483ec",
   "metadata": {},
   "outputs": [
    {
     "data": {
      "application/vnd.microsoft.datawrangler.viewer.v0+json": {
       "columns": [
        {
         "name": "index",
         "rawType": "int64",
         "type": "integer"
        },
        {
         "name": "model_name",
         "rawType": "object",
         "type": "string"
        },
        {
         "name": "model_loss",
         "rawType": "float64",
         "type": "float"
        },
        {
         "name": "model_acc",
         "rawType": "float64",
         "type": "float"
        }
       ],
       "ref": "02b7da88-2b70-4c81-a101-9b27cb924fad",
       "rows": [
        [
         "0",
         "FashionMNISTModelV0",
         "0.47663894295692444",
         "83.42651757188499"
        ],
        [
         "1",
         "FashionMNISTModelV1",
         "0.8824601173400879",
         "66.69329073482429"
        ],
        [
         "2",
         "FashionMNISTModelV2",
         "0.3177203834056854",
         "88.52835463258786"
        ]
       ],
       "shape": {
        "columns": 3,
        "rows": 3
       }
      },
      "text/html": [
       "<div>\n",
       "<style scoped>\n",
       "    .dataframe tbody tr th:only-of-type {\n",
       "        vertical-align: middle;\n",
       "    }\n",
       "\n",
       "    .dataframe tbody tr th {\n",
       "        vertical-align: top;\n",
       "    }\n",
       "\n",
       "    .dataframe thead th {\n",
       "        text-align: right;\n",
       "    }\n",
       "</style>\n",
       "<table border=\"1\" class=\"dataframe\">\n",
       "  <thead>\n",
       "    <tr style=\"text-align: right;\">\n",
       "      <th></th>\n",
       "      <th>model_name</th>\n",
       "      <th>model_loss</th>\n",
       "      <th>model_acc</th>\n",
       "    </tr>\n",
       "  </thead>\n",
       "  <tbody>\n",
       "    <tr>\n",
       "      <th>0</th>\n",
       "      <td>FashionMNISTModelV0</td>\n",
       "      <td>0.476639</td>\n",
       "      <td>83.426518</td>\n",
       "    </tr>\n",
       "    <tr>\n",
       "      <th>1</th>\n",
       "      <td>FashionMNISTModelV1</td>\n",
       "      <td>0.882460</td>\n",
       "      <td>66.693291</td>\n",
       "    </tr>\n",
       "    <tr>\n",
       "      <th>2</th>\n",
       "      <td>FashionMNISTModelV2</td>\n",
       "      <td>0.317720</td>\n",
       "      <td>88.528355</td>\n",
       "    </tr>\n",
       "  </tbody>\n",
       "</table>\n",
       "</div>"
      ],
      "text/plain": [
       "            model_name  model_loss  model_acc\n",
       "0  FashionMNISTModelV0    0.476639  83.426518\n",
       "1  FashionMNISTModelV1    0.882460  66.693291\n",
       "2  FashionMNISTModelV2    0.317720  88.528355"
      ]
     },
     "execution_count": 45,
     "metadata": {},
     "output_type": "execute_result"
    }
   ],
   "source": [
    "import pandas as pd\n",
    "\n",
    "compare_results= pd.DataFrame([model_0_results,\n",
    "                               model_1_results,\n",
    "                               model_2_results])\n",
    "compare_results"
   ]
  },
  {
   "cell_type": "code",
   "execution_count": 46,
   "id": "091f2e96",
   "metadata": {},
   "outputs": [
    {
     "data": {
      "text/plain": [
       "Text(0, 0.5, 'model')"
      ]
     },
     "execution_count": 46,
     "metadata": {},
     "output_type": "execute_result"
    },
    {
     "data": {
      "image/png": "[encoded data removed]",
      "text/plain": [
       "<Figure size 640x480 with 1 Axes>"
      ]
     },
     "metadata": {},
     "output_type": "display_data"
    }
   ],
   "source": [
    "# Visualize our model results\n",
    "compare_results.set_index('model_name')['model_acc'].plot(kind='barh')\n",
    "plt.xlabel('accuracy (%)')\n",
    "plt.ylabel('model')"
   ]
  },
  {
   "cell_type": "markdown",
   "id": "538069a8",
   "metadata": {},
   "source": [
    "### Predict and evaluate random prediction with best model"
   ]
  },
  {
   "cell_type": "code",
   "execution_count": 47,
   "id": "09e1c2a1",
   "metadata": {},
   "outputs": [],
   "source": [
    "def make_prediction( model: torch.nn.Module,\n",
    "                    data: list,\n",
    "                    device: torch.device=device):\n",
    "    pred_probs=[]\n",
    "    model.to(device)\n",
    "    model.eval()\n",
    "    with torch.inference_mode():\n",
    "        for sample in data:\n",
    "            #prepare sample (add batch size by adding dimension `unsqeeze()` and pass it to target device)\n",
    "            sample=torch.unsqueeze(sample, dim=0).to(device)\n",
    "\n",
    "            # Forward pass\n",
    "            pred_logit= model(sample)\n",
    "\n",
    "            #get prediction\n",
    "            pred_prob=torch.softmax(pred_logit.squeeze(), dim=0)\n",
    "\n",
    "            # prediction label\n",
    "            pred_probs.append(pred_prob.cpu())\n",
    "    #Stack the pred probs and turn it to the tensor\n",
    "    return torch.stack(pred_probs)"
   ]
  },
  {
   "cell_type": "code",
   "execution_count": 48,
   "id": "580b2434",
   "metadata": {},
   "outputs": [
    {
     "data": {
      "text/plain": [
       "torch.Size([1, 28, 28])"
      ]
     },
     "execution_count": 48,
     "metadata": {},
     "output_type": "execute_result"
    }
   ],
   "source": [
    "import random\n",
    "# random.seed(42)\n",
    "test_samples=[]\n",
    "test_labels=[]\n",
    "for sample ,label in random.sample(list(test_data),k=9):\n",
    "    test_samples.append(sample)\n",
    "    test_labels.append(label)\n",
    "#view the first sample shape \n",
    "test_samples[0].shape"
   ]
  },
  {
   "cell_type": "code",
   "execution_count": 49,
   "id": "8a8aa0fa",
   "metadata": {},
   "outputs": [
    {
     "data": {
      "text/plain": [
       "tensor([[1.1036e-04, 2.3759e-06, 3.7591e-05, 1.9903e-06, 4.4116e-05, 1.6144e-05,\n",
       "         5.1770e-04, 2.7564e-04, 9.9787e-01, 1.1271e-03],\n",
       "        [5.6372e-07, 7.4941e-09, 7.6481e-08, 9.8622e-08, 1.7382e-07, 6.2282e-04,\n",
       "         2.0906e-06, 1.1303e-05, 1.0016e-05, 9.9935e-01]])"
      ]
     },
     "execution_count": 49,
     "metadata": {},
     "output_type": "execute_result"
    }
   ],
   "source": [
    "#make predicttion\n",
    "\n",
    "pred_probs=make_prediction(model=model_2,\n",
    "                           data=test_samples)\n",
    "\n",
    "#View first two prediction probabilities\n",
    "pred_probs[:2]\n"
   ]
  },
  {
   "cell_type": "code",
   "execution_count": 50,
   "id": "5097b95f",
   "metadata": {},
   "outputs": [
    {
     "data": {
      "text/plain": [
       "tensor([8, 9, 3, 2, 2, 2, 1, 1, 6])"
      ]
     },
     "execution_count": 50,
     "metadata": {},
     "output_type": "execute_result"
    }
   ],
   "source": [
    "#convert prediction probabilities to labels\n",
    "pred_classes=pred_probs.argmax(dim=1)\n",
    "pred_classes"
   ]
  },
  {
   "cell_type": "code",
   "execution_count": 51,
   "id": "3fbac94e",
   "metadata": {},
   "outputs": [
    {
     "data": {
      "image/png": "[encoded data removed]",
      "text/plain": [
       "<Figure size 900x900 with 9 Axes>"
      ]
     },
     "metadata": {},
     "output_type": "display_data"
    }
   ],
   "source": [
    "#plot predictions\n",
    "plt.figure(figsize=(9,9))\n",
    "nrows=3\n",
    "ncols=3\n",
    "for i, sample in enumerate(test_samples):\n",
    "    #creat subplots\n",
    "    plt.subplot(nrows,ncols, i+1)\n",
    "    # show the target images\n",
    "    plt.imshow(sample.squeeze(),cmap='gray')\n",
    "\n",
    "    #find the prediction\n",
    "    pred_label=class_name[pred_classes[i]]\n",
    "\n",
    "    #get the truth label\n",
    "    truth_label=class_name[test_labels[i]]\n",
    "\n",
    "    # create title for plot\n",
    "    title_text=f\"Pred: {pred_label} | Truth: {truth_label}\"\n",
    "\n",
    "    #Check for equality\n",
    "    if pred_label == truth_label:\n",
    "        plt.title(title_text, fontsize=10, c='g')\n",
    "    else:\n",
    "        plt.title(title_text, fontsize=10, c='r')\n",
    "\n",
    "    plt.axis(False)"
   ]
  },
  {
   "cell_type": "markdown",
   "id": "cd04900d",
   "metadata": {},
   "source": [
    "### Making a confusion matrix\n",
    "1. make predictions with our trained model\n",
    "2. Make a confusion matrix\n",
    "3. Plot them"
   ]
  },
  {
   "cell_type": "code",
   "execution_count": 52,
   "id": "019b4f39",
   "metadata": {},
   "outputs": [
    {
     "data": {
      "application/vnd.jupyter.widget-view+json": {
       "model_id": "b4afa88b20ec46cd8acb22fc905bd3b0",
       "version_major": 2,
       "version_minor": 0
      },
      "text/plain": [
       "Making predictions.....:   0%|          | 0/313 [00:00<?, ?it/s]"
      ]
     },
     "metadata": {},
     "output_type": "display_data"
    },
    {
     "data": {
      "text/plain": [
       "tensor([9, 2, 1,  ..., 8, 1, 8])"
      ]
     },
     "execution_count": 52,
     "metadata": {},
     "output_type": "execute_result"
    }
   ],
   "source": [
    "#making the predictions\n",
    "\n",
    "from tqdm.auto import tqdm\n",
    "\n",
    "y_preds=[]\n",
    "model_2.eval()\n",
    "\n",
    "with torch.inference_mode():\n",
    "    for X,y in tqdm(test_data_loader, desc=\"Making predictions.....\"):\n",
    "        X,y= X.to(device), y.to(device)\n",
    "        y_logit=model_2(X)\n",
    "        # logits---> probabilities---> labels\n",
    "        y_pred= torch.softmax(y_logit.squeeze(),dim=0).argmax(dim=1)\n",
    "\n",
    "        #put the prediction to the CPU\n",
    "        y_preds.append(y_pred.cpu())\n",
    "\n",
    "#Concate list of predictions into a tensor\n",
    "# print(y_preds)\n",
    "y_pred_tensor= torch.cat(y_preds)\n",
    "y_pred_tensor"
   ]
  },
  {
   "cell_type": "code",
   "execution_count": 53,
   "id": "86bde193",
   "metadata": {},
   "outputs": [
    {
     "data": {
      "text/plain": [
       "10000"
      ]
     },
     "execution_count": 53,
     "metadata": {},
     "output_type": "execute_result"
    }
   ],
   "source": [
    "len(y_pred_tensor)"
   ]
  },
  {
   "cell_type": "code",
   "execution_count": null,
   "id": "c13a6502",
   "metadata": {},
   "outputs": [
    {
     "data": {
      "image/png": "[encoded data removed]",
      "text/plain": [
       "<Figure size 1000x700 with 1 Axes>"
      ]
     },
     "metadata": {},
     "output_type": "display_data"
    }
   ],
   "source": [
    "import torchmetrics\n",
    "from torchmetrics import ConfusionMatrix\n",
    "from mlxtend.plotting import plot_confusion_matrix\n",
    "\n",
    "# Define confusion matrix metric (specify task)\n",
    "confmat = ConfusionMatrix(task='multiclass', num_classes=len(class_name))\n",
    "\n",
    "# Generate confusion matrix tensor\n",
    "confmat_tensor = confmat(preds=y_pred_tensor, target=test_data.targets)\n",
    "\n",
    "# Plot confusion matrix (without 'task' argument)\n",
    "fig, ax = plot_confusion_matrix(\n",
    "    conf_mat=confmat_tensor.numpy(),\n",
    "    class_names=class_name,\n",
    "    figsize=(10,7)\n",
    ")\n"
   ]
  },
  {
   "cell_type": "markdown",
   "id": "2b3bbea5",
   "metadata": {},
   "source": [
    "### save the best model and reload it"
   ]
  },
  {
   "cell_type": "code",
   "execution_count": 62,
   "id": "d1f23e18",
   "metadata": {},
   "outputs": [],
   "source": [
    "from pathlib import Path\n",
    "\n",
    "# create a model directory path\n",
    "Model_path=Path('models')\n",
    "Model_path.mkdir(parents=True,\n",
    "                 exist_ok=True)\n",
    "\n",
    "#Create Save the model\n",
    "Model_name=\"03_Model.pth\"\n",
    "Model_Save_Path=Model_path/Model_name\n",
    "Model_Save_Path\n",
    "\n",
    "# Save the model\n",
    "torch.save(obj=model_2.state_dict(),\n",
    "           f=Model_Save_Path)"
   ]
  },
  {
   "cell_type": "code",
   "execution_count": 64,
   "id": "c9c01aff",
   "metadata": {},
   "outputs": [
    {
     "data": {
      "text/plain": [
       "FashionMNISTModelV2(\n",
       "  (conv_block_1): Sequential(\n",
       "    (0): Conv2d(1, 10, kernel_size=(3, 3), stride=(1, 1), padding=(1, 1))\n",
       "    (1): ReLU()\n",
       "    (2): Conv2d(10, 10, kernel_size=(3, 3), stride=(1, 1), padding=(1, 1))\n",
       "    (3): ReLU()\n",
       "    (4): MaxPool2d(kernel_size=2, stride=2, padding=0, dilation=1, ceil_mode=False)\n",
       "  )\n",
       "  (conv_block_2): Sequential(\n",
       "    (0): Conv2d(10, 10, kernel_size=(3, 3), stride=(1, 1), padding=(1, 1))\n",
       "    (1): ReLU()\n",
       "    (2): Conv2d(10, 10, kernel_size=(3, 3), stride=(1, 1), padding=(1, 1))\n",
       "    (3): ReLU()\n",
       "    (4): MaxPool2d(kernel_size=2, stride=2, padding=0, dilation=1, ceil_mode=False)\n",
       "  )\n",
       "  (classifier): Sequential(\n",
       "    (0): Flatten(start_dim=1, end_dim=-1)\n",
       "    (1): Linear(in_features=490, out_features=10, bias=True)\n",
       "  )\n",
       ")"
      ]
     },
     "execution_count": 64,
     "metadata": {},
     "output_type": "execute_result"
    }
   ],
   "source": [
    "# Create a new instance\n",
    "torch.manual_seed(42)\n",
    "loaded_model_2=FashionMNISTModelV2(input_shape=1,\n",
    "                                   hidden_units=10,\n",
    "                                   output_shape=len(class_name))\n",
    "\n",
    "# Load in the save state_dict()\n",
    "loaded_model_2.load_state_dict(torch.load(f=Model_Save_Path))\n",
    "\n",
    "loaded_model_2.to(device)"
   ]
  },
  {
   "cell_type": "code",
   "execution_count": 66,
   "id": "ff782cf5",
   "metadata": {},
   "outputs": [
    {
     "data": {
      "application/vnd.jupyter.widget-view+json": {
       "model_id": "239e9cda3e2747deaf0ff4f70a9bc823",
       "version_major": 2,
       "version_minor": 0
      },
      "text/plain": [
       "  0%|          | 0/313 [00:00<?, ?it/s]"
      ]
     },
     "metadata": {},
     "output_type": "display_data"
    },
    {
     "data": {
      "text/plain": [
       "{'model_name': 'FashionMNISTModelV2',\n",
       " 'model_loss': 0.3177203834056854,\n",
       " 'model_acc': 88.52835463258786}"
      ]
     },
     "execution_count": 66,
     "metadata": {},
     "output_type": "execute_result"
    }
   ],
   "source": [
    "# Evaluate the loaded model\n",
    "torch.manual_seed(42)\n",
    "loaded_model_2_result=eval_model(\n",
    "    model=loaded_model_2,\n",
    "    data_loader=test_data_loader,\n",
    "    loss_fn=loss_fn,\n",
    "    accuracy_fn=accuracy_fn\n",
    ")\n",
    "loaded_model_2_result"
   ]
  }
 ],
 "metadata": {
  "kernelspec": {
   "display_name": "Python 3",
   "language": "python",
   "name": "python3"
  },
  "language_info": {
   "codemirror_mode": {
    "name": "ipython",
    "version": 3
   },
   "file_extension": ".py",
   "mimetype": "text/x-python",
   "name": "python",
   "nbconvert_exporter": "python",
   "pygments_lexer": "ipython3",
   "version": "3.13.3"
  }
 },
 "nbformat": 4,
 "nbformat_minor": 5
}
