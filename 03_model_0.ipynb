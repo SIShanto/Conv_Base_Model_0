{
 "cells": [
  {
   "cell_type": "code",
   "execution_count": null,
   "id": "c9fa3f65",
   "metadata": {},
   "outputs": [],
   "source": [
    "import torch\n",
    "from torch import nn\n",
    "from torchvision import datasets, transforms\n",
    "from torchvision.transforms import ToTensor\n",
    "import matplotlib.pyplot as plt"
   ]
  },
  {
   "cell_type": "code",
   "execution_count": null,
   "id": "6a2c34e4",
   "metadata": {},
   "outputs": [],
   "source": [
    "# setup training datasets\n",
    "\n",
    "train_data=datasets.FashionMNIST(\n",
    "    root='data',\n",
    "    train=True,\n",
    "    download=True,\n",
    "    transform=ToTensor(),\n",
    "    target_transform=None\n",
    ")\n",
    "\n",
    "test_data=datasets.FashionMNIST(\n",
    "    root='data',\n",
    "    train=False,\n",
    "    transform=ToTensor(),\n",
    "    download=True,\n",
    "    target_transform=None\n",
    ")"
   ]
  },
  {
   "cell_type": "code",
   "execution_count": null,
   "id": "f56b3b20",
   "metadata": {},
   "outputs": [],
   "source": [
    "# set the class name and indexes\n",
    "\n",
    "image, label= train_data[0]\n",
    "class_name= train_data.classes\n",
    "idx=train_data.class_to_idx\n",
    "image,label,class_name"
   ]
  },
  {
   "cell_type": "code",
   "execution_count": null,
   "id": "61912749",
   "metadata": {},
   "outputs": [],
   "source": [
    "image.shape, class_name[label]"
   ]
  },
  {
   "cell_type": "code",
   "execution_count": null,
   "id": "e04f7512",
   "metadata": {},
   "outputs": [],
   "source": [
    "#plot the images of data\n",
    "torch.manual_seed(42)\n",
    "fig=plt.figure(figsize=(9,9))\n",
    "\n",
    "rows,cols=4,4\n",
    "\n",
    "#Now make a for loop\n",
    "for i in range(1,rows*cols+1):\n",
    "    random_idx= torch.randint(0,len(train_data),size=[1]).item()\n",
    "    img,label=train_data[random_idx]\n",
    "    fig.add_subplot(rows,cols,i)\n",
    "    plt.imshow(img.squeeze(),cmap='gray')\n",
    "    plt.title(class_name[label])\n",
    "    plt.axis(False)"
   ]
  },
  {
   "cell_type": "markdown",
   "id": "9735ed3d",
   "metadata": {},
   "source": [
    "### Prepare the Dataloader\n"
   ]
  },
  {
   "cell_type": "code",
   "execution_count": null,
   "id": "eacfd98e",
   "metadata": {},
   "outputs": [],
   "source": [
    "from torch.utils.data import DataLoader\n",
    "\n",
    "batch_size=32\n",
    "\n",
    "train_data_loader=DataLoader(dataset=train_data, batch_size= batch_size,shuffle=True)\n",
    "\n",
    "test_data_loader=DataLoader(dataset=test_data, batch_size=batch_size, shuffle=False)"
   ]
  },
  {
   "cell_type": "code",
   "execution_count": null,
   "id": "e3d34c9a",
   "metadata": {},
   "outputs": [],
   "source": [
    "# Lets checkout \n",
    "print(f'DataLoader: {train_data_loader, test_data_loader}')\n",
    "print(f'Length of Train Data Loaders : {len(train_data_loader),len(test_data_loader)}')"
   ]
  },
  {
   "cell_type": "code",
   "execution_count": null,
   "id": "b2a8acc4",
   "metadata": {},
   "outputs": [],
   "source": [
    "train_feature_batch, train_label_batch = next(iter(train_data_loader))\n",
    "train_feature_batch,train_label_batch"
   ]
  },
  {
   "cell_type": "code",
   "execution_count": null,
   "id": "3f400612",
   "metadata": {},
   "outputs": [],
   "source": [
    "# Showing a sample\n",
    "torch.manual_seed(42)\n",
    "random_idx=torch.randint(0,len(train_feature_batch),size=[1]).item()\n",
    "img,label=train_feature_batch[random_idx],train_label_batch[random_idx]\n",
    "plt.imshow(img.squeeze())\n",
    "plt.title(class_name[label])\n",
    "plt.axis(False)"
   ]
  },
  {
   "cell_type": "markdown",
   "id": "a340d187",
   "metadata": {},
   "source": [
    "### Make a model"
   ]
  },
  {
   "cell_type": "code",
   "execution_count": 81,
   "id": "2155dac2",
   "metadata": {},
   "outputs": [],
   "source": [
    "# Device agnostic code\n",
    "device= 'cuda' if torch.cuda.is_available() else 'cpu'\n",
    "\n",
    "class FashionMNISTModel(nn.Module):\n",
    "    def __init__(self, \n",
    "                 input_shape: int,\n",
    "                 hidden_units:int,\n",
    "                 output_shape:int):\n",
    "        super().__init__()\n",
    "\n",
    "        self.layer_stack=nn.Sequential(\n",
    "            nn.Flatten(),\n",
    "            nn.Linear(in_features=input_shape,out_features=hidden_units),\n",
    "            nn.ReLU(),\n",
    "            nn.Linear(in_features=hidden_units,out_features=hidden_units),\n",
    "            nn.ReLU(),\n",
    "            nn.Linear(in_features=hidden_units, out_features=output_shape),\n",
    "            nn.ReLU()\n",
    "        )\n",
    "\n",
    "    def forward(self, x: torch.Tensor):\n",
    "        return self.layer_stack(x)"
   ]
  },
  {
   "cell_type": "code",
   "execution_count": 91,
   "id": "6121f87a",
   "metadata": {},
   "outputs": [],
   "source": [
    "torch.manual_seed(42)\n",
    "torch.set_float32_matmul_precision('high')\n",
    "\n",
    "model_0=torch.compile(FashionMNISTModel(input_shape=784,\n",
    "                          hidden_units=10,\n",
    "                          output_shape=len(class_name))).to(device)"
   ]
  },
  {
   "cell_type": "markdown",
   "id": "3335e1fd",
   "metadata": {},
   "source": [
    "### Setup loss, optimizer and evaluation metrics"
   ]
  },
  {
   "cell_type": "code",
   "execution_count": 92,
   "id": "88c138bf",
   "metadata": {},
   "outputs": [],
   "source": [
    "import requests\n",
    "\n",
    "request= requests.get('https://raw.githubusercontent.com/mrdbourke/pytorch-deep-learning/refs/heads/main/helper_functions.py')\n",
    "with open('helper_functions.py','wb') as f:\n",
    "    f.write(request.content)"
   ]
  },
  {
   "cell_type": "code",
   "execution_count": 93,
   "id": "abe95db5",
   "metadata": {},
   "outputs": [],
   "source": [
    "## We will use accuracy as evaluation metrics\n",
    "from helper_functions import accuracy_fn\n",
    "\n",
    "# Setup loss and optimizer\n",
    "loss_fn=nn.CrossEntropyLoss()\n",
    "optimizer= torch.optim.SGD(params=model_0.parameters(),lr=.1)"
   ]
  },
  {
   "cell_type": "markdown",
   "id": "5f54d7ce",
   "metadata": {},
   "source": [
    "### Making Training and Testing loop"
   ]
  },
  {
   "cell_type": "code",
   "execution_count": null,
   "id": "0e9e86f2",
   "metadata": {},
   "outputs": [],
   "source": [
    "### Trainning loop function\n",
    "def train_step(model: torch.nn.Module,\n",
    "               data_loader: torch.utils.data.DataLoader,\n",
    "               loss_fn:torch.nn.Module,\n",
    "               optimizer:torch.optim.Optimizer,\n",
    "               accuracy_fn,\n",
    "               device: torch.device =device):\n",
    "\n",
    "    \n",
    "    train_loss,train_acc=0,0\n",
    "      #training\n",
    "    model.train()\n",
    "    \n",
    "    # add a loop to loop through the training batch\n",
    "    for X,y in data_loader:\n",
    "        \n",
    "        X,y= X.to(device),y.to(device)\n",
    "\n",
    "        #forward pass\n",
    "        y_pred=model(X)\n",
    "\n",
    "        #Calculate the loss and accuracy\n",
    "        loss =loss_fn(y_pred,y)\n",
    "        train_loss +=loss\n",
    "        train_acc +=accuracy_fn(y_true=y, y_pred=y_pred.argmax(dim=1))\n",
    "\n",
    "        # optimizer zero grad\n",
    "        optimizer.zero_grad()\n",
    "        loss.backward()\n",
    "        optimizer.step()\n",
    "    \n",
    "    # ajust the training batch- divide total train loss by length of train dataloader\n",
    "    train_loss /= len(data_loader)\n",
    "    train_acc /=len(data_loader)\n",
    "\n",
    "    print(f'Train_loss: {train_loss:.5f} | Train_acc: {train_acc:.5f}')\n"
   ]
  },
  {
   "cell_type": "code",
   "execution_count": 116,
   "id": "e219624a",
   "metadata": {},
   "outputs": [],
   "source": [
    "### testing loop function\n",
    "def testing_step(model: torch.nn.Module,\n",
    "                 data_loader:torch.utils.data.DataLoader,\n",
    "                 loss_fn:torch.nn.Module,\n",
    "                 accuracy_fn,\n",
    "                 device=device):\n",
    "    test_loss,test_acc=0,0\n",
    "    model.eval()\n",
    "\n",
    "    with torch.inference_mode():\n",
    "        for X,y in data_loader:\n",
    "            X,y= X.to(device),y.to(device)\n",
    "            # forward pass\n",
    "            test_pred=model(X)\n",
    "            test_loss +=loss_fn(test_pred,y)\n",
    "            test_acc +=accuracy_fn(y_true=y, y_pred=test_pred.argmax(dim=1))\n",
    "        \n",
    "        # Calculate the test loss average per batch\n",
    "        test_loss /= len(data_loader)\n",
    "\n",
    "        # Calculate the test acc average per batch\n",
    "        test_acc /=len(data_loader)\n",
    "\n",
    "        #print out    \n",
    "    print(f'Test loss: {test_loss :.5f}|Test acc: {test_acc:.5f}')"
   ]
  },
  {
   "cell_type": "code",
   "execution_count": 117,
   "id": "5c77b9e1",
   "metadata": {},
   "outputs": [
    {
     "data": {
      "application/vnd.jupyter.widget-view+json": {
       "model_id": "78ffaa84d93344c183da87c77fe58717",
       "version_major": 2,
       "version_minor": 0
      },
      "text/plain": [
       "  0%|          | 0/3 [00:00<?, ?it/s]"
      ]
     },
     "metadata": {},
     "output_type": "display_data"
    },
    {
     "name": "stdout",
     "output_type": "stream",
     "text": [
      "\n",
      "Epoch: 0\n",
      "------\n",
      "Train_loss: 0.63995 | Train_acc: 76.30000\n",
      "Test loss: 0.65253|Test acc: 76.37780\n",
      "\n",
      "Epoch: 1\n",
      "------\n",
      "Train_loss: 0.60848 | Train_acc: 77.66167\n",
      "Test loss: 0.50035|Test acc: 82.50799\n",
      "\n",
      "Epoch: 2\n",
      "------\n",
      "Train_loss: 0.42780 | Train_acc: 84.79833\n",
      "Test loss: 0.45390|Test acc: 84.12540\n"
     ]
    }
   ],
   "source": [
    "torch.manual_seed(42)\n",
    "epochs=3\n",
    "\n",
    "from tqdm.auto import tqdm\n",
    "\n",
    "for epoch in tqdm(range(epochs)):\n",
    "    print(f'\\nEpoch: {epoch}\\n------')\n",
    "    \n",
    "    train_step(model=model_0,\n",
    "               data_loader=train_data_loader,\n",
    "               loss_fn=loss_fn,\n",
    "               optimizer=optimizer,\n",
    "               accuracy_fn=accuracy_fn,\n",
    "               device=device)\n",
    "    \n",
    "    testing_step(model=model_0,\n",
    "                 data_loader=test_data_loader,\n",
    "                 loss_fn=loss_fn,\n",
    "                 accuracy_fn=accuracy_fn,\n",
    "                 device=device)"
   ]
  }
 ],
 "metadata": {
  "kernelspec": {
   "display_name": "Python 3",
   "language": "python",
   "name": "python3"
  },
  "language_info": {
   "codemirror_mode": {
    "name": "ipython",
    "version": 3
   },
   "file_extension": ".py",
   "mimetype": "text/x-python",
   "name": "python",
   "nbconvert_exporter": "python",
   "pygments_lexer": "ipython3",
   "version": "3.13.3"
  }
 },
 "nbformat": 4,
 "nbformat_minor": 5
}
